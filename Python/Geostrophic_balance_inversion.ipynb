{
 "cells": [
  {
   "cell_type": "markdown",
   "id": "60797802",
   "metadata": {},
   "source": [
    "# Packages"
   ]
  },
  {
   "cell_type": "code",
   "execution_count": null,
   "id": "5c55152f",
   "metadata": {},
   "outputs": [],
   "source": [
    "import numpy as np\n",
    "import matplotlib.pyplot as plt\n",
    "import xarray as xr\n",
    "import Util as ut\n",
    "import jax.numpy as jnp\n",
    "from jax import grad, jit, vmap"
   ]
  },
  {
   "cell_type": "markdown",
   "id": "8a6a01b9",
   "metadata": {},
   "source": [
    "# Reading data"
   ]
  },
  {
   "cell_type": "markdown",
   "id": "e4534519",
   "metadata": {},
   "source": [
    "## Parameters"
   ]
  },
  {
   "cell_type": "code",
   "execution_count": null,
   "id": "1e35871b",
   "metadata": {},
   "outputs": [],
   "source": [
    "dir_data = '/home/viannazv/notebooks/Data/'\n",
    "name_mask = 'mask_eNATL60MEDWEST_3.6.nc'\n",
    "name_coord = 'coordinates_eNATL60MEDWEST.nc'\n",
    "name_ssh = 'eNATL60MEDWEST-BLB002_y2009m07d01.1h_sossheig.nc'\n",
    "name_u = 'eNATL60MEDWEST-BLB002_y2009m07d01.1h_sozocrtx.nc'\n",
    "name_v = 'eNATL60MEDWEST-BLB002_y2009m07d01.1h_somecrty.nc'"
   ]
  },
  {
   "cell_type": "markdown",
   "id": "7e11d5b2",
   "metadata": {},
   "source": [
    "## Opening data"
   ]
  },
  {
   "cell_type": "code",
   "execution_count": null,
   "id": "dd933692",
   "metadata": {},
   "outputs": [],
   "source": [
    "ds_coord = xr.open_dataset(dir_data+name_coord)\n",
    "lon = ds_coord.nav_lon.values\n",
    "lat = ds_coord.nav_lat.values\n",
    "\n",
    "ds_mask = xr.open_dataset(dir_data+name_mask)\n",
    "mask_ssh = ds_mask.tmask[0,0].values\n",
    "mask_u = ds_mask.umask[0,0].values\n",
    "mask_v = ds_mask.vmask[0,0].values\n",
    "\n",
    "ds_ssh = xr.open_dataset(dir_data+name_ssh)\n",
    "#print(ds_ssh)\n",
    "lon_ssh = ds_ssh.nav_lon.values\n",
    "lat_ssh = ds_ssh.nav_lat.values\n",
    "ssh = ds_ssh.sossheig[0].values\n",
    "\n",
    "ds_u = xr.open_dataset(dir_data+name_u)\n",
    "#print(ds_u)\n",
    "lon_u = ds_u.nav_lon.values\n",
    "lat_u = ds_u.nav_lat.values\n",
    "uvel = ds_u.sozocrtx[0].values\n",
    "\n",
    "ds_v = xr.open_dataset(dir_data+name_v)\n",
    "#print(ds_v)\n",
    "lon_v = ds_v.nav_lon.values\n",
    "lat_v = ds_v.nav_lat.values\n",
    "vvel = ds_v.somecrty[0].values"
   ]
  },
  {
   "cell_type": "markdown",
   "id": "00b6f2b2",
   "metadata": {},
   "source": [
    "## Ploting the data"
   ]
  },
  {
   "cell_type": "code",
   "execution_count": null,
   "id": "f6531c89",
   "metadata": {},
   "outputs": [],
   "source": [
    "fig,(ax1,ax2,ax3) = plt.subplots(1,3,figsize=(15,5))\n",
    "ax1.set_xlabel('longitude \\n (a)')\n",
    "ax2.set_xlabel('longitude \\n (b)')\n",
    "ax3.set_xlabel('longitude \\n (c)')\n",
    "ax1.set_ylabel('latitude')\n",
    "im = ax1.pcolormesh(lon, lat, uvel,shading='auto')\n",
    "plt.colorbar(im,ax=ax1)\n",
    "im = ax2.pcolormesh(lon, lat,vvel,shading='auto')\n",
    "plt.colorbar(im,ax=ax2)\n",
    "im = ax3.pcolormesh(lon, lat,ssh,shading='auto')\n",
    "plt.colorbar(im,ax=ax3)\n",
    "plt.show()"
   ]
  },
  {
   "cell_type": "markdown",
   "id": "3bff2d67",
   "metadata": {},
   "source": [
    " ## Spliting the data for the geostrophy"
   ]
  },
  {
   "cell_type": "code",
   "execution_count": null,
   "id": "02429b76",
   "metadata": {},
   "outputs": [],
   "source": [
    "x1 =180\n",
    "x2 = -480\n",
    "y1 = 500\n",
    "y2 = -100\n",
    "\n",
    "# Reduced grid for testing\n",
    "# x1 =180\n",
    "# x2 = -615\n",
    "# y1 = 500\n",
    "# y2 = -375\n",
    "\n",
    "ssh = ssh[x1-1 : x2+1, y1-1 : y2+1]\n",
    "lat_ssh = lat_ssh[x1-1 : x2+1, y1-1 : y2+1]\n",
    "lon_ssh = lon_ssh[x1-1 : x2+1, y1-1 : y2+1]\n",
    "\n",
    "uvel = uvel[x1 : x2, y1-1 : y2]\n",
    "lat_u = lat_u[x1 : x2, y1-1 : y2]\n",
    "lon_u = lon_u[x1 : x2, y1-1 : y2]\n",
    "\n",
    "vvel = vvel[x1-1 : x2, y1 : y2]\n",
    "lat_v = lat_v[x1-1 : x2, y1 : y2]\n",
    "lon_v = lon_v[x1-1 : x2, y1 : y2]"
   ]
  },
  {
   "cell_type": "markdown",
   "id": "ac5a81d3",
   "metadata": {},
   "source": [
    "## Ploting the split data"
   ]
  },
  {
   "cell_type": "code",
   "execution_count": null,
   "id": "ef5ca4eb",
   "metadata": {},
   "outputs": [],
   "source": [
    "fig,(ax1,ax2,ax3) = plt.subplots(1,3,figsize=(15,5))\n",
    "ax1.set_xlabel('longitude \\n (a)')\n",
    "ax2.set_xlabel('longitude \\n (b)')\n",
    "ax3.set_xlabel('longitude \\n (c)')\n",
    "ax1.set_ylabel('latitude')\n",
    "im = ax1.pcolormesh(lon_u, lat_u, uvel,shading='auto')\n",
    "plt.colorbar(im,ax=ax1)\n",
    "im = ax2.pcolormesh(lon_v,lat_v,vvel,shading='auto')\n",
    "plt.colorbar(im,ax=ax2)\n",
    "im = ax3.pcolormesh(lon_ssh, lat_ssh,ssh,shading='auto')\n",
    "plt.colorbar(im,ax=ax3)\n",
    "plt.show()"
   ]
  },
  {
   "cell_type": "markdown",
   "id": "86d852b8",
   "metadata": {},
   "source": [
    "## Plotting the C-Grid\""
   ]
  },
  {
   "cell_type": "code",
   "execution_count": null,
   "id": "b543cbf3",
   "metadata": {},
   "outputs": [],
   "source": [
    "fig = ut.PlotGrid(lon_ssh, lat_ssh, lon_u, lat_u, lon_v, lat_v)"
   ]
  },
  {
   "cell_type": "markdown",
   "id": "2697ca7b",
   "metadata": {},
   "source": [
    "# Input data"
   ]
  },
  {
   "cell_type": "code",
   "execution_count": null,
   "id": "1e060a99",
   "metadata": {},
   "outputs": [],
   "source": [
    "gravity = 9.81 #[m/s2]\n",
    "coriolis_factor_ssh = 2 * 7.2722e-05 * np.sin(lat_ssh * np.pi / 180)\n",
    "coriolis_factor_u = 2 * 7.2722e-05 * np.sin(lat_u * np.pi / 180)\n",
    "coriolis_factor_v = 2 * 7.2722e-05 * np.sin(lat_v * np.pi / 180)"
   ]
  },
  {
   "cell_type": "markdown",
   "id": "b4b11d90",
   "metadata": {},
   "source": [
    "# Geostrophic  balance"
   ]
  },
  {
   "cell_type": "markdown",
   "id": "c51923a3",
   "metadata": {},
   "source": [
    "## Gradient of the SSH"
   ]
  },
  {
   "cell_type": "code",
   "execution_count": null,
   "id": "397e0e5f",
   "metadata": {},
   "outputs": [],
   "source": [
    "grad_ssh_x, grad_ssh_y = ut.compute_gradient(ssh, lon_ssh, lat_ssh)"
   ]
  },
  {
   "cell_type": "markdown",
   "id": "55199356",
   "metadata": {},
   "source": [
    "## Interpolation of the data (moving the grad into the u and v position)"
   ]
  },
  {
   "cell_type": "code",
   "execution_count": null,
   "id": "2a80bf0f",
   "metadata": {},
   "outputs": [],
   "source": [
    "grad_ssh_y = ut.interpolate_y(grad_ssh_y)\n",
    "grad_ssh_y = ut.interpolate_x(grad_ssh_y)\n",
    "\n",
    "grad_ssh_x = ut.interpolate_x(grad_ssh_x)\n",
    "grad_ssh_x = ut.interpolate_y(grad_ssh_x)"
   ]
  },
  {
   "cell_type": "markdown",
   "id": "075e43bc",
   "metadata": {},
   "source": [
    "## Geostrophic velocities"
   ]
  },
  {
   "cell_type": "code",
   "execution_count": null,
   "id": "5637cc1b",
   "metadata": {},
   "outputs": [],
   "source": [
    "u_geos = - gravity * grad_ssh_y / coriolis_factor_u\n",
    "v_geos =   gravity * grad_ssh_x / coriolis_factor_v"
   ]
  },
  {
   "cell_type": "markdown",
   "id": "35b8a067",
   "metadata": {},
   "source": [
    "## Ploting the u_geos and v_geos"
   ]
  },
  {
   "cell_type": "code",
   "execution_count": null,
   "id": "96be3b6f",
   "metadata": {},
   "outputs": [],
   "source": [
    "fig,(ax1,ax2,ax3) = plt.subplots(1,3,figsize=(15,5))\n",
    "ax1.set_xlabel('longitude \\n (a)')\n",
    "ax2.set_xlabel('longitude \\n (b)')\n",
    "ax3.set_xlabel('longitude \\n (c)')\n",
    "ax1.set_ylabel('latitude')\n",
    "im = ax1.pcolormesh(lon_u, lat_u, uvel, cmap='RdBu',shading='auto',vmin=-0.9, vmax=0.9)\n",
    "plt.colorbar(im,ax=ax1)\n",
    "im = ax2.pcolormesh(lon_u,lat_u,u_geos, cmap='RdBu',shading='auto',vmin=-0.9, vmax=0.9)\n",
    "plt.colorbar(im,ax=ax2)\n",
    "im = ax3.pcolormesh(lon_u, lat_u,uvel-u_geos, cmap='RdBu',shading='auto',vmin=-0.4, vmax=0.4)\n",
    "plt.colorbar(im,ax=ax3)\n",
    "\n",
    "fig,(ax1,ax2,ax3) = plt.subplots(1,3,figsize=(15,5))\n",
    "ax1.set_xlabel('longitude \\n (a)')\n",
    "ax2.set_xlabel('longitude \\n (b)')\n",
    "ax3.set_xlabel('longitude \\n (c)')\n",
    "ax1.set_ylabel('latitude')\n",
    "im = ax1.pcolormesh(lon_v, lat_v, vvel, cmap='RdBu',shading='auto',vmin=-0.9, vmax=0.9)\n",
    "plt.colorbar(im,ax=ax1)\n",
    "im = ax2.pcolormesh(lon_v,lat_v,v_geos, cmap='RdBu',shading='auto',vmin=-0.9, vmax=0.9)\n",
    "plt.colorbar(im,ax=ax2)\n",
    "im = ax3.pcolormesh(lon_v, lat_v,vvel-v_geos, cmap='RdBu',shading='auto',vmin=-0.4, vmax=0.4)\n",
    "plt.colorbar(im,ax=ax3)"
   ]
  },
  {
   "cell_type": "markdown",
   "id": "c46f9e2e",
   "metadata": {},
   "source": [
    "# Cyclogeostrophic balance"
   ]
  },
  {
   "cell_type": "markdown",
   "id": "43e8cfee",
   "metadata": {},
   "source": [
    "## Resize of the grid\n",
    "\n",
    "Due to the interpolation of the advection term, the grid has to be reduced."
   ]
  },
  {
   "cell_type": "code",
   "execution_count": null,
   "id": "cbcfd2e9",
   "metadata": {},
   "outputs": [],
   "source": [
    "# =============================================================================\n",
    "# Ploting the advection u in the mesh (v point)\n",
    "# =============================================================================\n",
    "\n",
    "dudx_lon = ut.interpolate_x(lon_u)\n",
    "dudx_lat = ut.interpolate_x(lat_u)\n",
    "\n",
    "dudx_lon = ut.interpolate_y(dudx_lon)\n",
    "dudx_lat = ut.interpolate_y(dudx_lat)\n",
    "\n",
    "dudy_lon = ut.interpolate_y(lon_u)\n",
    "dudy_lat = ut.interpolate_y(lat_u)\n",
    "\n",
    "dudy_lon = ut.interpolate_x(dudy_lon)\n",
    "dudy_lat = ut.interpolate_x(dudy_lat)\n",
    "\n",
    "u_lon_int = ut.interpolate_x(lon_u)\n",
    "u_lat_int = ut.interpolate_x(lat_u)\n",
    "\n",
    "u_lon_int = ut.interpolate_y(u_lon_int)\n",
    "u_lat_int = ut.interpolate_y(u_lat_int)\n",
    "\n",
    "plt.figure()\n",
    "plt.scatter(lon_ssh, lat_ssh, label='SSH', zorder=2)\n",
    "plt.scatter(lon_u, lat_u,label='u', zorder=1)\n",
    "plt.scatter(lon_v, lat_v, label='v',zorder=1)\n",
    "plt.scatter(dudx_lon, dudx_lat, label='du/dx',zorder=4)\n",
    "# plt.scatter(dudy_lon, dudy_lat, label='du/dy',zorder=3,c ='purple')\n",
    "# plt.scatter(u_lon_int, u_lat_int, label='u_int',zorder=3, c ='cyan')\n",
    "plt.xlim(2.715,2.8)\n",
    "plt.ylim(37.275,37.34)\n",
    "plt.xlabel('longitude [degrees]')\n",
    "plt.ylabel('latitude [degrees]')\n",
    "plt.legend(loc=1,framealpha =1)\n",
    "plt.show()"
   ]
  },
  {
   "cell_type": "code",
   "execution_count": null,
   "id": "ca521382",
   "metadata": {},
   "outputs": [],
   "source": [
    "# =============================================================================\n",
    "# Ploting the advection v in the mesh (u point)\n",
    "# =============================================================================\n",
    "\n",
    "dvdx_lon = ut.interpolate_x(lon_v)\n",
    "dvdx_lat = ut.interpolate_x(lat_v)\n",
    "\n",
    "dvdx_lon = ut.interpolate_y(dvdx_lon)\n",
    "dvdx_lat = ut.interpolate_y(dvdx_lat)\n",
    "\n",
    "dvdy_lon = ut.interpolate_y(lon_v)\n",
    "dvdy_lat = ut.interpolate_y(lat_v)\n",
    "\n",
    "dvdy_lon = ut.interpolate_x(dvdy_lon)\n",
    "dvdy_lat = ut.interpolate_x(dvdy_lat)\n",
    "\n",
    "v_lon_int = ut.interpolate_x(lon_v)\n",
    "v_lat_int = ut.interpolate_x(lat_v)\n",
    "\n",
    "v_lon_int = ut.interpolate_y(v_lon_int)\n",
    "v_lat_int = ut.interpolate_y(v_lat_int)\n",
    "\n",
    "plt.figure()\n",
    "plt.scatter(lon_ssh, lat_ssh, label='SSH', zorder=2)\n",
    "plt.scatter(lon_u, lat_u,label='u', zorder=1)\n",
    "plt.scatter(lon_v, lat_v, label='v',zorder=1)\n",
    "# plt.scatter(dvdx_lon, dvdx_lat, label='dv/dx',zorder=4)\n",
    "# plt.scatter(dvdy_lon, dvdy_lat, label='dv/dy',zorder=3,c ='purple')\n",
    "plt.scatter(v_lon_int, v_lat_int, label='v_int',zorder=3, c ='cyan')\n",
    "plt.xlim(2.715,2.8)\n",
    "plt.ylim(37.275,37.34)\n",
    "plt.xlabel('longitude [degrees]')\n",
    "plt.ylabel('latitude [degrees]')\n",
    "plt.legend(loc=1,framealpha =1)\n",
    "plt.show()"
   ]
  },
  {
   "cell_type": "code",
   "execution_count": null,
   "id": "f377ecf2",
   "metadata": {},
   "outputs": [],
   "source": [
    "u_geos_r = u_geos[:,1:-1]\n",
    "v_geos_r = v_geos[1:-1,:]\n",
    "\n",
    "coriolis_factor_ssh = coriolis_factor_ssh[1:-1,1:-1]\n",
    "coriolis_factor_u = coriolis_factor_u[:,1:-1]\n",
    "coriolis_factor_v = coriolis_factor_v[1:-1,:]"
   ]
  },
  {
   "cell_type": "markdown",
   "id": "f2a0d3e8",
   "metadata": {},
   "source": [
    "## Defining the cost function"
   ]
  },
  {
   "cell_type": "code",
   "execution_count": null,
   "id": "4df996f5",
   "metadata": {},
   "outputs": [],
   "source": [
    "# Input values for the loss function\n",
    "u= u_geos\n",
    "v = v_geos"
   ]
  },
  {
   "cell_type": "code",
   "execution_count": null,
   "id": "10bac87a",
   "metadata": {},
   "outputs": [],
   "source": [
    "# Cost function using a lambda function\n",
    "J_u = lambda x,y: np.sum((x[:,1:-1] + ut.compute_advection_v(u, v, lon_v, lat_v)/coriolis_factor_u*x[:,1:-1] - u_geos_r)**2) \n",
    "J_v = lambda x,y: np.sum((y[1:-1,:] + ut.compute_advection_u(u, v, lon_u, lat_u)/coriolis_factor_v*y[1:-1,:] - v_geos_r)**2)\n",
    "\n",
    "J = lambda u,v: (J_u(u,v) + J_v(u,v))\n",
    "\n",
    "# Initial loss\n",
    "J(u,v)"
   ]
  },
  {
   "cell_type": "code",
   "execution_count": null,
   "id": "ec5f70a8",
   "metadata": {},
   "outputs": [],
   "source": [
    "# Cost function using a normal function\n",
    "def loss(u,v):\n",
    "    J_u = np.sum((u[:,1:-1] + ut.compute_advection_v(u, v, lon_v, lat_v)/coriolis_factor_u*u[:,1:-1] - u_geos_r)**2) \n",
    "    J_v = np.sum((v[1:-1,:] + ut.compute_advection_u(u, v, lon_u, lat_u)/coriolis_factor_v*v[1:-1,:] - v_geos_r)**2)\n",
    "\n",
    "    J = J_u + J_v\n",
    "    \n",
    "    return J\n",
    "\n",
    "# Initial loss\n",
    "loss(u,v)"
   ]
  },
  {
   "cell_type": "code",
   "execution_count": null,
   "id": "d2a0ec8b",
   "metadata": {},
   "outputs": [],
   "source": [
    "grad_x = grad(J)\n",
    "grad_y = grad(J,argnums=(1))"
   ]
  },
  {
   "cell_type": "markdown",
   "id": "1007cbfe",
   "metadata": {},
   "source": [
    "## Minimization algorithm - Gradient descent"
   ]
  },
  {
   "cell_type": "code",
   "execution_count": null,
   "id": "9d99e77d",
   "metadata": {},
   "outputs": [],
   "source": [
    "def gradient_descent(f, x_init, y_init, learning_rate=0.01, num_iterations=1000):\n",
    "    \n",
    "    x, y = x_init, y_init\n",
    "    \n",
    "    for i in range(num_iterations):\n",
    "        \n",
    "        # calculate the gradient of f at (x, y)\n",
    "        grad_x = grad(J)\n",
    "        grad_y = grad(J,argnums=(1))\n",
    "\n",
    "        # update x and y using gradient descent\n",
    "        x = x - learning_rate * grad_x(x,y)\n",
    "        y = y - learning_rate * grad_y(x,y)\n",
    "\n",
    "        # print the current value of f and (x, y)\n",
    "        print(\"iteration {}: f(x, y) = {}\".format(i, f(x, y)))\n",
    "\n",
    "    return x, y\n",
    "\n",
    "# run gradient descent to minimize f\n",
    "u_min, v_min = gradient_descent(J,u,v)"
   ]
  },
  {
   "cell_type": "markdown",
   "id": "8c6e25fa",
   "metadata": {},
   "source": [
    "## Ploting u_geos v_geos and u v minimized"
   ]
  },
  {
   "cell_type": "code",
   "execution_count": null,
   "id": "a9babcfc",
   "metadata": {},
   "outputs": [],
   "source": [
    "fig,(ax1,ax2,ax3) = plt.subplots(1,3,figsize=(15,5))\n",
    "ax1.set_xlabel('longitude \\n (a)')\n",
    "ax2.set_xlabel('longitude \\n (b)')\n",
    "ax3.set_xlabel('longitude \\n (c)')\n",
    "ax1.set_ylabel('latitude')\n",
    "im = ax1.pcolormesh(lon_u, lat_u, u_geos, cmap='RdBu',shading='auto',vmin=-0.9, vmax=0.9)\n",
    "plt.colorbar(im,ax=ax1)\n",
    "im = ax2.pcolormesh(lon_u,lat_u,u_min, cmap='RdBu',shading='auto',vmin=-0.9, vmax=0.9)\n",
    "plt.colorbar(im,ax=ax2)\n",
    "im = ax3.pcolormesh(lon_u, lat_u,u_geos-u_min, cmap='RdBu',shading='auto',vmin=-0.4, vmax=0.4)\n",
    "plt.colorbar(im,ax=ax3)\n",
    "\n",
    "fig,(ax1,ax2,ax3) = plt.subplots(1,3,figsize=(15,5))\n",
    "ax1.set_xlabel('longitude \\n (a)')\n",
    "ax2.set_xlabel('longitude \\n (b)')\n",
    "ax3.set_xlabel('longitude \\n (c)')\n",
    "ax1.set_ylabel('latitude')\n",
    "im = ax1.pcolormesh(lon_v, lat_v, v_geos, cmap='RdBu',shading='auto',vmin=-0.9, vmax=0.9)\n",
    "plt.colorbar(im,ax=ax1)\n",
    "im = ax2.pcolormesh(lon_v,lat_v,v_min, cmap='RdBu',shading='auto',vmin=-0.9, vmax=0.9)\n",
    "plt.colorbar(im,ax=ax2)\n",
    "im = ax3.pcolormesh(lon_v, lat_v,v_geos-v_min, cmap='RdBu',shading='auto',vmin=-0.4, vmax=0.4)\n",
    "plt.colorbar(im,ax=ax3)"
   ]
  },
  {
   "cell_type": "markdown",
   "id": "8fcbaff8",
   "metadata": {},
   "source": [
    "## Ploting u v from eNATL60 and u v minimized"
   ]
  },
  {
   "cell_type": "code",
   "execution_count": null,
   "id": "c00e044d",
   "metadata": {},
   "outputs": [],
   "source": [
    "fig,(ax1,ax2,ax3) = plt.subplots(1,3,figsize=(15,5))\n",
    "ax1.set_xlabel('longitude \\n (a)')\n",
    "ax2.set_xlabel('longitude \\n (b)')\n",
    "ax3.set_xlabel('longitude \\n (c)')\n",
    "ax1.set_ylabel('latitude')\n",
    "im = ax1.pcolormesh(lon_u, lat_u, uvel, cmap='RdBu',shading='auto',vmin=-0.9, vmax=0.9)\n",
    "plt.colorbar(im,ax=ax1)\n",
    "im = ax2.pcolormesh(lon_u,lat_u,u_min, cmap='RdBu',shading='auto',vmin=-0.9, vmax=0.9)\n",
    "plt.colorbar(im,ax=ax2)\n",
    "im = ax3.pcolormesh(lon_u, lat_u,uvel-u_min, cmap='RdBu',shading='auto',vmin=-0.4, vmax=0.4)\n",
    "plt.colorbar(im,ax=ax3)\n",
    "\n",
    "fig,(ax1,ax2,ax3) = plt.subplots(1,3,figsize=(15,5))\n",
    "ax1.set_xlabel('longitude \\n (a)')\n",
    "ax2.set_xlabel('longitude \\n (b)')\n",
    "ax3.set_xlabel('longitude \\n (c)')\n",
    "ax1.set_ylabel('latitude')\n",
    "im = ax1.pcolormesh(lon_v, lat_v, vvel, cmap='RdBu',shading='auto',vmin=-0.9, vmax=0.9)\n",
    "plt.colorbar(im,ax=ax1)\n",
    "im = ax2.pcolormesh(lon_v,lat_v,v_min, cmap='RdBu',shading='auto',vmin=-0.9, vmax=0.9)\n",
    "plt.colorbar(im,ax=ax2)\n",
    "im = ax3.pcolormesh(lon_v, lat_v,vvel-v_min, cmap='RdBu',shading='auto',vmin=-0.4, vmax=0.4)\n",
    "plt.colorbar(im,ax=ax3)"
   ]
  }
 ],
 "metadata": {
  "kernelspec": {
   "display_name": "Python 3 (ipykernel)",
   "language": "python",
   "name": "python3"
  },
  "language_info": {
   "codemirror_mode": {
    "name": "ipython",
    "version": 3
   },
   "file_extension": ".py",
   "mimetype": "text/x-python",
   "name": "python",
   "nbconvert_exporter": "python",
   "pygments_lexer": "ipython3",
   "version": "3.9.7"
  }
 },
 "nbformat": 4,
 "nbformat_minor": 5
}
