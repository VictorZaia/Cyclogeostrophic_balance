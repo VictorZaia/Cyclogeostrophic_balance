{
 "cells": [
  {
   "cell_type": "markdown",
   "id": "f1ba1bb8",
   "metadata": {},
   "source": [
    "# Introduction to JAX\n",
    "\n",
    "This script will present the main functions from JAX that will be used during the research project, in order to optimize the code."
   ]
  },
  {
   "cell_type": "markdown",
   "id": "c9c57b1a",
   "metadata": {},
   "source": [
    "## Packages"
   ]
  },
  {
   "cell_type": "code",
   "execution_count": 12,
   "id": "f5241ab3",
   "metadata": {},
   "outputs": [],
   "source": [
    "import numpy as np \n",
    "import matplotlib.pyplot as plt\n",
    "import jax.numpy as jnp\n",
    "from jax import grad, jit, vmap\n",
    "from jax import random\n",
    "\n",
    "import utils as ut"
   ]
  },
  {
   "cell_type": "markdown",
   "id": "2686d234",
   "metadata": {},
   "source": [
    "## Trying JIT and Grad function"
   ]
  },
  {
   "cell_type": "code",
   "execution_count": 4,
   "id": "b5b685fc",
   "metadata": {},
   "outputs": [
    {
     "name": "stdout",
     "output_type": "stream",
     "text": [
      "non-jit version:\n",
      "4.16 ms ± 379 µs per loop (mean ± std. dev. of 7 runs, 100 loops each)\n",
      "jit version:\n",
      "488 µs ± 61.9 µs per loop (mean ± std. dev. of 7 runs, 1000 loops each)\n"
     ]
    }
   ],
   "source": [
    "# Creating an array to test jit.\n",
    "seed = 0\n",
    "key = random.PRNGKey(seed)\n",
    "data = random.normal(key, (1000000,))\n",
    "\n",
    "# Defining a random function.\n",
    "def f(x):\n",
    "    return jnp.exp(x)**2 / jnp.exp(3) * jnp. exp(x**2)\n",
    "\n",
    "# Using jit function.\n",
    "f_jit = jit(f)\n",
    "\n",
    "#ploting the elapsed time.\n",
    "print('non-jit version:')\n",
    "%timeit f(data)\n",
    "print('jit version:')\n",
    "%timeit f_jit(data)\n",
    "\n",
    "# the more complicated the function, the higher it is the difference between f and f_jit."
   ]
  },
  {
   "cell_type": "markdown",
   "id": "3d61e40e",
   "metadata": {},
   "source": [
    "grad of function f(x):"
   ]
  },
  {
   "cell_type": "code",
   "execution_count": 32,
   "id": "f414cf68",
   "metadata": {},
   "outputs": [
    {
     "name": "stdout",
     "output_type": "stream",
     "text": [
      "48.6 ms ± 3.03 ms per loop (mean ± std. dev. of 7 runs, 10 loops each)\n",
      "The slowest run took 6.54 times longer than the fastest. This could mean that an intermediate result is being cached.\n",
      "5.42 µs ± 5.26 µs per loop (mean ± std. dev. of 7 runs, 1 loop each)\n"
     ]
    },
    {
     "data": {
      "image/png": "[encoded data removed]",
      "text/plain": [
       "<Figure size 432x288 with 1 Axes>"
      ]
     },
     "metadata": {
      "needs_background": "light"
     },
     "output_type": "display_data"
    }
   ],
   "source": [
    "# The use of lambda functions makes it easier to use grad().\n",
    "g = lambda x: jnp.exp(x)**2 + x**4\n",
    "x = jnp.arange(0.,5.,0.5)\n",
    "\n",
    "# the grad functions from jax only works for scalar functions.\n",
    "g_grad = grad(g)\n",
    "\n",
    "def grad_jax(x):   \n",
    "    h = jnp.zeros(len(x))\n",
    "    for i in range(0, len(x)):\n",
    "        h = h.at[i].set(g_grad(x[i]))\n",
    "    return h\n",
    "\n",
    "grad_jax_jit = jit(grad_jax)\n",
    "\n",
    "%timeit grad_jax(x)\n",
    "%timeit grad_jax_jit(x)"
   ]
  },
  {
   "cell_type": "markdown",
   "id": "05a5f4d0",
   "metadata": {},
   "source": [
    "grad of function f(x,y):"
   ]
  },
  {
   "cell_type": "code",
   "execution_count": 6,
   "id": "bf27e650",
   "metadata": {},
   "outputs": [
    {
     "name": "stdout",
     "output_type": "stream",
     "text": [
      "[0. 1. 2. 3. 4.]\n",
      "[0. 1. 2. 3. 4.]\n",
      "[[ 0.  5. 10. 15. 20.]\n",
      " [ 0.  5. 10. 15. 20.]\n",
      " [ 0.  5. 10. 15. 20.]\n",
      " [ 0.  5. 10. 15. 20.]\n",
      " [ 0.  5. 10. 15. 20.]]\n",
      "[[ 7.  7.  7.  7.  7.]\n",
      " [12. 12. 12. 12. 12.]\n",
      " [17. 17. 17. 17. 17.]\n",
      " [22. 22. 22. 22. 22.]\n",
      " [27. 27. 27. 27. 27.]]\n"
     ]
    }
   ],
   "source": [
    "g = lambda x, y: 5*x*y + 7*y\n",
    "x = jnp.arange(0.,5.,1.)\n",
    "y = jnp.arange(0.,5.,1.)\n",
    "\n",
    "print(x)\n",
    "print(y)\n",
    "\n",
    "g_grad_x = grad(g)\n",
    "g_grad_y = grad(g, argnums=(1))\n",
    "\n",
    "# Function that computes the grad of a function in regards of x.\n",
    "def grad_x(x):   \n",
    "    h = jnp.zeros((np.size(x), np.size(y)))\n",
    "    for i in range(0, np.size(x)):\n",
    "        for j in range(0, np.size(y)):\n",
    "            h = h.at[i,j].set(g_grad_x(x[i],y[j]))\n",
    "    return h\n",
    "\n",
    "# Function that computes the grad of a function in regards of y.\n",
    "def grad_y(x):   \n",
    "    h = jnp.zeros((np.size(x), np.size(y)))\n",
    "    for i in range(0, np.size(x)):\n",
    "        for j in range(0, np.size(y)):\n",
    "            h = h.at[i,j].set(g_grad_y(x[i],y[j]))\n",
    "    return h\n",
    "\n",
    "\n",
    "print(grad_x(x))\n",
    "print(grad_y(y))\n",
    "\n",
    "# The function grad computes the derivative of a scalar function at one point, if we have multiple points, another\n",
    "# function that will compute the grad for each point of the array had to be implemented. That is not optimum since\n",
    "# it is good to avoid loops. VMAP function will be disussed.\n"
   ]
  },
  {
   "cell_type": "markdown",
   "id": "af1c5542",
   "metadata": {},
   "source": [
    "## Using VMAP function"
   ]
  },
  {
   "cell_type": "code",
   "execution_count": 31,
   "id": "0ce2c084",
   "metadata": {},
   "outputs": [
    {
     "name": "stdout",
     "output_type": "stream",
     "text": [
      "10.0\n",
      "10.0\n",
      "time elapsed using a loop:\n",
      "17.5 ms ± 2.24 ms per loop (mean ± std. dev. of 7 runs, 10 loops each)\n",
      "time elapsed using vmap:\n",
      "3.46 ms ± 307 µs per loop (mean ± std. dev. of 7 runs, 100 loops each)\n",
      "time elapsed using jit and vmap:\n",
      "2.25 µs ± 508 ns per loop (mean ± std. dev. of 7 runs, 100000 loops each)\n"
     ]
    }
   ],
   "source": [
    "# When using vmap, it is necessary to implement a function to treat a single data. Instead of creating another function\n",
    "# with a loop, vmap allow the treatment of batches of data from a single data function.\n",
    "\n",
    "f = lambda x: 5*x**2\n",
    "x = jnp.arange(0.,5.,1.)\n",
    "\n",
    "# grad function is a single data function.\n",
    "f_grad = grad(f)\n",
    "print(f_grad(x[1]))\n",
    "\n",
    "# Using the functions above\n",
    "print(derivative_jax(f,x[1],0))\n",
    "\n",
    "# Function without using vmap.\n",
    "def grad_loop(x):   \n",
    "    h = jnp.zeros(len(x))\n",
    "    for i in range(0, len(x)):\n",
    "        h = h.at[i].set(f_grad(x[i]))\n",
    "    return h      \n",
    "\n",
    "# Function using vmap.\n",
    "def vmap_grad(x):\n",
    "    return vmap(f_grad)(x)\n",
    "\n",
    "print('time elapsed using a loop:')\n",
    "%timeit grad_loop(x)\n",
    "\n",
    "print('time elapsed using vmap:')\n",
    "%timeit vmap_grad(x)\n",
    "\n",
    "jit_vmap_grad = jit(vmap_grad)\n",
    "\n",
    "print('time elapsed using jit and vmap:')\n",
    "%timeit jit_vmap_grad(x)"
   ]
  },
  {
   "cell_type": "code",
   "execution_count": null,
   "id": "d5b1aaa1",
   "metadata": {},
   "outputs": [],
   "source": []
  }
 ],
 "metadata": {
  "celltoolbar": "Format de la Cellule Texte Brut",
  "kernelspec": {
   "display_name": "Python 3 (ipykernel)",
   "language": "python",
   "name": "python3"
  },
  "language_info": {
   "codemirror_mode": {
    "name": "ipython",
    "version": 3
   },
   "file_extension": ".py",
   "mimetype": "text/x-python",
   "name": "python",
   "nbconvert_exporter": "python",
   "pygments_lexer": "ipython3",
   "version": "3.9.7"
  }
 },
 "nbformat": 4,
 "nbformat_minor": 5
}
