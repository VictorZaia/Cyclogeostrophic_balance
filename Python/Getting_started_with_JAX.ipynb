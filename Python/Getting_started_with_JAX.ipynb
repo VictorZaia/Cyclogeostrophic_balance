{
 "cells": [
  {
   "cell_type": "markdown",
   "id": "f1ba1bb8",
   "metadata": {},
   "source": [
    "# Introduction to JAX\n",
    "\n",
    "This script will present the main functions from JAX that will be used during the research project, in order to optimize the code."
   ]
  },
  {
   "cell_type": "markdown",
   "id": "c9c57b1a",
   "metadata": {},
   "source": [
    "## Packages"
   ]
  },
  {
   "cell_type": "code",
   "execution_count": 1,
   "id": "f5241ab3",
   "metadata": {},
   "outputs": [],
   "source": [
    "import numpy as np \n",
    "import matplotlib.pyplot as plt\n",
    "import jax.numpy as jnp\n",
    "from jax import grad, jit, vmap\n",
    "from jax import random\n",
    "\n",
    "import utils as ut"
   ]
  },
  {
   "cell_type": "markdown",
   "id": "2686d234",
   "metadata": {},
   "source": [
    "## Trying JIT and Grad function"
   ]
  },
  {
   "cell_type": "code",
   "execution_count": 2,
   "id": "b5b685fc",
   "metadata": {},
   "outputs": [
    {
     "name": "stderr",
     "output_type": "stream",
     "text": [
      "No GPU/TPU found, falling back to CPU. (Set TF_CPP_MIN_LOG_LEVEL=0 and rerun for more info.)\n"
     ]
    },
    {
     "name": "stdout",
     "output_type": "stream",
     "text": [
      "non-jit version:\n",
      "4.52 ms ± 227 µs per loop (mean ± std. dev. of 7 runs, 100 loops each)\n",
      "jit version:\n",
      "530 µs ± 61.8 µs per loop (mean ± std. dev. of 7 runs, 1000 loops each)\n"
     ]
    }
   ],
   "source": [
    "# Creating an array to test jit.\n",
    "seed = 0\n",
    "key = random.PRNGKey(seed)\n",
    "data = random.normal(key, (1000000,))\n",
    "\n",
    "# Defining a random function.\n",
    "def f(x):\n",
    "    return jnp.exp(x)**2 / jnp.exp(3) * jnp. exp(x**2)\n",
    "\n",
    "# Using jit function.\n",
    "f_jit = jit(f)\n",
    "\n",
    "#ploting the elapsed time.\n",
    "print('non-jit version:')\n",
    "%timeit f(data)\n",
    "print('jit version:')\n",
    "%timeit f_jit(data)\n",
    "\n",
    "# the more complicated the function, the higher it is the difference between f and f_jit."
   ]
  },
  {
   "cell_type": "markdown",
   "id": "3d61e40e",
   "metadata": {},
   "source": [
    "grad of function f(x):"
   ]
  },
  {
   "cell_type": "code",
   "execution_count": 3,
   "id": "f414cf68",
   "metadata": {},
   "outputs": [
    {
     "name": "stdout",
     "output_type": "stream",
     "text": [
      "51.8 ms ± 5.92 ms per loop (mean ± std. dev. of 7 runs, 10 loops each)\n",
      "2.07 µs ± 68.5 ns per loop (mean ± std. dev. of 7 runs, 100000 loops each)\n"
     ]
    }
   ],
   "source": [
    "# The use of lambda functions makes it easier to use grad().\n",
    "g = lambda x: jnp.exp(x)**2 + x**4\n",
    "x = jnp.arange(0.,5.,0.5)\n",
    "\n",
    "# the grad functions from jax only works for scalar functions.\n",
    "g_grad = grad(g)\n",
    "\n",
    "def grad_jax(x):   \n",
    "    h = jnp.zeros(len(x))\n",
    "    for i in range(0, len(x)):\n",
    "        h = h.at[i].set(g_grad(x[i]))\n",
    "    return h\n",
    "\n",
    "grad_jax_jit = jit(grad_jax)\n",
    "\n",
    "%timeit grad_jax(x)\n",
    "%timeit grad_jax_jit(x)"
   ]
  },
  {
   "cell_type": "markdown",
   "id": "05a5f4d0",
   "metadata": {},
   "source": [
    "grad of function f(x,y):"
   ]
  },
  {
   "cell_type": "code",
   "execution_count": 4,
   "id": "bf27e650",
   "metadata": {},
   "outputs": [
    {
     "name": "stdout",
     "output_type": "stream",
     "text": [
      "[0. 1. 2. 3. 4.]\n",
      "[0. 2. 4. 6. 8.]\n",
      "[[ 0. 10. 20. 30. 40.]\n",
      " [ 0. 10. 20. 30. 40.]\n",
      " [ 0. 10. 20. 30. 40.]\n",
      " [ 0. 10. 20. 30. 40.]\n",
      " [ 0. 10. 20. 30. 40.]]\n",
      "[[ 7.  7.  7.  7.  7.]\n",
      " [17. 17. 17. 17. 17.]\n",
      " [27. 27. 27. 27. 27.]\n",
      " [37. 37. 37. 37. 37.]\n",
      " [47. 47. 47. 47. 47.]]\n"
     ]
    }
   ],
   "source": [
    "g = lambda x, y: 5*x*y + 7*y\n",
    "x = jnp.arange(0.,5.,1.)\n",
    "y = jnp.arange(0.,10.,2.)\n",
    "\n",
    "print(x)\n",
    "print(y)\n",
    "\n",
    "g_grad_x = grad(g)\n",
    "g_grad_y = grad(g, argnums=(1))\n",
    "\n",
    "# Function that computes the grad of a function in regards of x.\n",
    "def grad_x(x):   \n",
    "    h = jnp.zeros((np.size(x), np.size(y)))\n",
    "    for i in range(0, np.size(x)):\n",
    "        for j in range(0, np.size(y)):\n",
    "            h = h.at[i,j].set(g_grad_x(x[i],y[j]))\n",
    "    return h\n",
    "\n",
    "# Function that computes the grad of a function in regards of y.\n",
    "def grad_y(x):   \n",
    "    h = jnp.zeros((np.size(x), np.size(y)))\n",
    "    for i in range(0, np.size(x)):\n",
    "        for j in range(0, np.size(y)):\n",
    "            h = h.at[i,j].set(g_grad_y(x[i],y[j]))\n",
    "    return h\n",
    "\n",
    "\n",
    "print(grad_x(x))\n",
    "print(grad_y(y))\n",
    "\n",
    "# The function grad computes the derivative of a scalar function at one point, if we have multiple points, another\n",
    "# function that will compute the grad for each point of the array had to be implemented. That is not optimum since\n",
    "# it is good to avoid loops. VMAP function will be disussed.\n"
   ]
  },
  {
   "cell_type": "markdown",
   "id": "af1c5542",
   "metadata": {},
   "source": [
    "## Using VMAP function"
   ]
  },
  {
   "cell_type": "code",
   "execution_count": 6,
   "id": "0ce2c084",
   "metadata": {},
   "outputs": [
    {
     "name": "stdout",
     "output_type": "stream",
     "text": [
      "10.0\n"
     ]
    },
    {
     "ename": "NameError",
     "evalue": "name 'derivative_jax' is not defined",
     "output_type": "error",
     "traceback": [
      "\u001b[0;31m---------------------------------------------------------------------------\u001b[0m",
      "\u001b[0;31mNameError\u001b[0m                                 Traceback (most recent call last)",
      "\u001b[0;32m/tmp/ipykernel_80/179762767.py\u001b[0m in \u001b[0;36m<module>\u001b[0;34m\u001b[0m\n\u001b[1;32m     10\u001b[0m \u001b[0;34m\u001b[0m\u001b[0m\n\u001b[1;32m     11\u001b[0m \u001b[0;31m# Using the functions above\u001b[0m\u001b[0;34m\u001b[0m\u001b[0;34m\u001b[0m\u001b[0m\n\u001b[0;32m---> 12\u001b[0;31m \u001b[0mprint\u001b[0m\u001b[0;34m(\u001b[0m\u001b[0mderivative_jax\u001b[0m\u001b[0;34m(\u001b[0m\u001b[0mf\u001b[0m\u001b[0;34m,\u001b[0m\u001b[0mx\u001b[0m\u001b[0;34m[\u001b[0m\u001b[0;36m1\u001b[0m\u001b[0;34m]\u001b[0m\u001b[0;34m,\u001b[0m\u001b[0;36m0\u001b[0m\u001b[0;34m)\u001b[0m\u001b[0;34m)\u001b[0m\u001b[0;34m\u001b[0m\u001b[0;34m\u001b[0m\u001b[0m\n\u001b[0m\u001b[1;32m     13\u001b[0m \u001b[0;34m\u001b[0m\u001b[0m\n\u001b[1;32m     14\u001b[0m \u001b[0;31m# Function without using vmap.\u001b[0m\u001b[0;34m\u001b[0m\u001b[0;34m\u001b[0m\u001b[0m\n",
      "\u001b[0;31mNameError\u001b[0m: name 'derivative_jax' is not defined"
     ]
    }
   ],
   "source": [
    "# When using vmap, it is necessary to implement a function to treat a single data. Instead of creating another function\n",
    "# with a loop, vmap allow the treatment of batches of data from a single data function.\n",
    "\n",
    "f = lambda x: 5*x**2\n",
    "x = jnp.arange(0.,5.,1.)\n",
    "\n",
    "# grad function is a single data function.\n",
    "f_grad = grad(f)\n",
    "print(f_grad(x[1]))\n",
    "\n",
    "# Using the functions above\n",
    "print(derivative_jax(f,x[1],0))\n",
    "\n",
    "# Function without using vmap.\n",
    "def grad_loop(x):   \n",
    "    h = jnp.zeros(len(x))\n",
    "    for i in range(0, len(x)):\n",
    "        h = h.at[i].set(f_grad(x[i]))\n",
    "    return h      \n",
    "\n",
    "# Function using vmap.\n",
    "def vmap_grad(x):\n",
    "    return vmap(f_grad)(x)\n",
    "\n",
    "print('time elapsed using a loop:')\n",
    "%timeit grad_loop(x)\n",
    "\n",
    "print('time elapsed using vmap:')\n",
    "%timeit vmap_grad(x)\n",
    "\n",
    "jit_vmap_grad = jit(vmap_grad)\n",
    "\n",
    "print('time elapsed using jit and vmap:')\n",
    "%timeit jit_vmap_grad(x)"
   ]
  },
  {
   "cell_type": "code",
   "execution_count": 7,
   "id": "d5b1aaa1",
   "metadata": {},
   "outputs": [
    {
     "data": {
      "text/plain": [
       "array([[0.78477019, 0.67353179, 0.76777419, 0.80046085, 0.57403526],\n",
       "       [0.38272031, 0.70147264, 0.28258596, 0.14359417, 0.80835885],\n",
       "       [0.65309193, 0.16236008, 0.20778387, 0.78611871, 0.56364002],\n",
       "       [0.0521202 , 0.24408649, 0.25093291, 0.75566982, 0.01124928],\n",
       "       [0.47312528, 0.53067697, 0.66654804, 0.08060171, 0.33573778]])"
      ]
     },
     "execution_count": 7,
     "metadata": {},
     "output_type": "execute_result"
    }
   ],
   "source": [
    "z = np.random.rand(5,5)\n",
    "z"
   ]
  },
  {
   "cell_type": "code",
   "execution_count": 8,
   "id": "ed84e88e",
   "metadata": {},
   "outputs": [
    {
     "ename": "TypeError",
     "evalue": "Expected a callable value, got [[0.78477019 0.67353179 0.76777419 0.80046085 0.57403526]\n [0.38272031 0.70147264 0.28258596 0.14359417 0.80835885]\n [0.65309193 0.16236008 0.20778387 0.78611871 0.56364002]\n [0.0521202  0.24408649 0.25093291 0.75566982 0.01124928]\n [0.47312528 0.53067697 0.66654804 0.08060171 0.33573778]]",
     "output_type": "error",
     "traceback": [
      "\u001b[0;31m---------------------------------------------------------------------------\u001b[0m",
      "\u001b[0;31mTypeError\u001b[0m                                 Traceback (most recent call last)",
      "\u001b[0;32m/tmp/ipykernel_80/3643700236.py\u001b[0m in \u001b[0;36m<module>\u001b[0;34m\u001b[0m\n\u001b[0;32m----> 1\u001b[0;31m \u001b[0mz\u001b[0m \u001b[0;34m=\u001b[0m \u001b[0mgrad\u001b[0m\u001b[0;34m(\u001b[0m\u001b[0mz\u001b[0m\u001b[0;34m)\u001b[0m\u001b[0;34m\u001b[0m\u001b[0;34m\u001b[0m\u001b[0m\n\u001b[0m",
      "\u001b[0;32m/opt/conda/lib/python3.9/site-packages/jax/_src/api.py\u001b[0m in \u001b[0;36mgrad\u001b[0;34m(fun, argnums, has_aux, holomorphic, allow_int, reduce_axes)\u001b[0m\n\u001b[1;32m   1021\u001b[0m   \u001b[0;36m0.961043\u001b[0m\u001b[0;34m\u001b[0m\u001b[0;34m\u001b[0m\u001b[0m\n\u001b[1;32m   1022\u001b[0m   \"\"\"\n\u001b[0;32m-> 1023\u001b[0;31m   value_and_grad_f = value_and_grad(fun, argnums, has_aux=has_aux,\n\u001b[0m\u001b[1;32m   1024\u001b[0m                                     \u001b[0mholomorphic\u001b[0m\u001b[0;34m=\u001b[0m\u001b[0mholomorphic\u001b[0m\u001b[0;34m,\u001b[0m\u001b[0;34m\u001b[0m\u001b[0;34m\u001b[0m\u001b[0m\n\u001b[1;32m   1025\u001b[0m                                     \u001b[0mallow_int\u001b[0m\u001b[0;34m=\u001b[0m\u001b[0mallow_int\u001b[0m\u001b[0;34m,\u001b[0m\u001b[0;34m\u001b[0m\u001b[0;34m\u001b[0m\u001b[0m\n",
      "\u001b[0;32m/opt/conda/lib/python3.9/site-packages/jax/_src/api.py\u001b[0m in \u001b[0;36mvalue_and_grad\u001b[0;34m(fun, argnums, has_aux, holomorphic, allow_int, reduce_axes)\u001b[0m\n\u001b[1;32m   1091\u001b[0m             \"same shape as the arguments at positions {argnums}.\")\n\u001b[1;32m   1092\u001b[0m \u001b[0;34m\u001b[0m\u001b[0m\n\u001b[0;32m-> 1093\u001b[0;31m   \u001b[0mcheck_callable\u001b[0m\u001b[0;34m(\u001b[0m\u001b[0mfun\u001b[0m\u001b[0;34m)\u001b[0m\u001b[0;34m\u001b[0m\u001b[0;34m\u001b[0m\u001b[0m\n\u001b[0m\u001b[1;32m   1094\u001b[0m   \u001b[0margnums\u001b[0m \u001b[0;34m=\u001b[0m \u001b[0mcore\u001b[0m\u001b[0;34m.\u001b[0m\u001b[0mconcrete_or_error\u001b[0m\u001b[0;34m(\u001b[0m\u001b[0m_ensure_index\u001b[0m\u001b[0;34m,\u001b[0m \u001b[0margnums\u001b[0m\u001b[0;34m)\u001b[0m\u001b[0;34m\u001b[0m\u001b[0;34m\u001b[0m\u001b[0m\n\u001b[1;32m   1095\u001b[0m   \u001b[0mreduce_axes\u001b[0m \u001b[0;34m=\u001b[0m \u001b[0m_ensure_str_tuple\u001b[0m\u001b[0;34m(\u001b[0m\u001b[0mreduce_axes\u001b[0m\u001b[0;34m)\u001b[0m\u001b[0;34m\u001b[0m\u001b[0;34m\u001b[0m\u001b[0m\n",
      "\u001b[0;32m/opt/conda/lib/python3.9/site-packages/jax/_src/api_util.py\u001b[0m in \u001b[0;36mcheck_callable\u001b[0;34m(fun)\u001b[0m\n\u001b[1;32m    457\u001b[0m     \u001b[0;32mraise\u001b[0m \u001b[0mTypeError\u001b[0m\u001b[0;34m(\u001b[0m\u001b[0;34mf\"staticmethod arguments are not supported, got {fun}\"\u001b[0m\u001b[0;34m)\u001b[0m\u001b[0;34m\u001b[0m\u001b[0;34m\u001b[0m\u001b[0m\n\u001b[1;32m    458\u001b[0m   \u001b[0;32mif\u001b[0m \u001b[0;32mnot\u001b[0m \u001b[0mcallable\u001b[0m\u001b[0;34m(\u001b[0m\u001b[0mfun\u001b[0m\u001b[0;34m)\u001b[0m\u001b[0;34m:\u001b[0m\u001b[0;34m\u001b[0m\u001b[0;34m\u001b[0m\u001b[0m\n\u001b[0;32m--> 459\u001b[0;31m     \u001b[0;32mraise\u001b[0m \u001b[0mTypeError\u001b[0m\u001b[0;34m(\u001b[0m\u001b[0;34mf\"Expected a callable value, got {fun}\"\u001b[0m\u001b[0;34m)\u001b[0m\u001b[0;34m\u001b[0m\u001b[0;34m\u001b[0m\u001b[0m\n\u001b[0m\u001b[1;32m    460\u001b[0m   \u001b[0;32mif\u001b[0m \u001b[0m_isgeneratorfunction\u001b[0m\u001b[0;34m(\u001b[0m\u001b[0mfun\u001b[0m\u001b[0;34m)\u001b[0m\u001b[0;34m:\u001b[0m\u001b[0;34m\u001b[0m\u001b[0;34m\u001b[0m\u001b[0m\n\u001b[1;32m    461\u001b[0m     \u001b[0;32mraise\u001b[0m \u001b[0mTypeError\u001b[0m\u001b[0;34m(\u001b[0m\u001b[0;34mf\"Expected a function, got a generator function: {fun}\"\u001b[0m\u001b[0;34m)\u001b[0m\u001b[0;34m\u001b[0m\u001b[0;34m\u001b[0m\u001b[0m\n",
      "\u001b[0;31mTypeError\u001b[0m: Expected a callable value, got [[0.78477019 0.67353179 0.76777419 0.80046085 0.57403526]\n [0.38272031 0.70147264 0.28258596 0.14359417 0.80835885]\n [0.65309193 0.16236008 0.20778387 0.78611871 0.56364002]\n [0.0521202  0.24408649 0.25093291 0.75566982 0.01124928]\n [0.47312528 0.53067697 0.66654804 0.08060171 0.33573778]]"
     ]
    }
   ],
   "source": [
    "z = grad(z)"
   ]
  },
  {
   "cell_type": "code",
   "execution_count": null,
   "id": "a62d7cdf",
   "metadata": {},
   "outputs": [],
   "source": []
  },
  {
   "cell_type": "code",
   "execution_count": null,
   "id": "e6c974a3",
   "metadata": {},
   "outputs": [],
   "source": []
  }
 ],
 "metadata": {
  "celltoolbar": "Format de la Cellule Texte Brut",
  "kernelspec": {
   "display_name": "Python 3 (ipykernel)",
   "language": "python",
   "name": "python3"
  },
  "language_info": {
   "codemirror_mode": {
    "name": "ipython",
    "version": 3
   },
   "file_extension": ".py",
   "mimetype": "text/x-python",
   "name": "python",
   "nbconvert_exporter": "python",
   "pygments_lexer": "ipython3",
   "version": "3.9.7"
  }
 },
 "nbformat": 4,
 "nbformat_minor": 5
}
